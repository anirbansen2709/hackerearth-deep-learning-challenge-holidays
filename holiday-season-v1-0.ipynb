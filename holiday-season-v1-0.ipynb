{
 "cells": [
  {
   "cell_type": "markdown",
   "metadata": {
    "papermill": {
     "duration": 0.021917,
     "end_time": "2021-02-09T06:32:17.290128",
     "exception": false,
     "start_time": "2021-02-09T06:32:17.268211",
     "status": "completed"
    },
    "tags": []
   },
   "source": [
    "1. Installing Libraries"
   ]
  },
  {
   "cell_type": "code",
   "execution_count": 1,
   "metadata": {
    "execution": {
     "iopub.execute_input": "2021-02-09T06:32:17.337293Z",
     "iopub.status.busy": "2021-02-09T06:32:17.336568Z",
     "iopub.status.idle": "2021-02-09T06:32:20.943280Z",
     "shell.execute_reply": "2021-02-09T06:32:20.942660Z"
    },
    "papermill": {
     "duration": 3.633122,
     "end_time": "2021-02-09T06:32:20.943545",
     "exception": false,
     "start_time": "2021-02-09T06:32:17.310423",
     "status": "completed"
    },
    "tags": []
   },
   "outputs": [
    {
     "data": {
      "text/plain": [
       "device(type='cuda')"
      ]
     },
     "execution_count": 1,
     "metadata": {},
     "output_type": "execute_result"
    }
   ],
   "source": [
    "import os\n",
    "import numpy as np # linear algebra\n",
    "import pandas as pd # data processing, CSV file I/O (e.g. pd.read_csv)\n",
    "import torch\n",
    "import torchvision\n",
    "from torchvision.transforms import transforms\n",
    "from torch.utils.data import DataLoader\n",
    "from torch.optim import Adam\n",
    "import torch.nn as nn\n",
    "from PIL import Image\n",
    "import matplotlib.pyplot as plt\n",
    "import albumentations\n",
    "from tqdm import trange, tqdm\n",
    "import cv2\n",
    "from sklearn.preprocessing import LabelEncoder\n",
    "from sklearn.model_selection import train_test_split\n",
    "from sklearn.metrics import f1_score, classification_report\n",
    "\n",
    "device = torch.device(\"cuda\" if torch.cuda.is_available() else \"cpu\")\n",
    "device"
   ]
  },
  {
   "cell_type": "markdown",
   "metadata": {
    "papermill": {
     "duration": 0.02133,
     "end_time": "2021-02-09T06:32:20.986636",
     "exception": false,
     "start_time": "2021-02-09T06:32:20.965306",
     "status": "completed"
    },
    "tags": []
   },
   "source": [
    "2. Reading Dataset"
   ]
  },
  {
   "cell_type": "code",
   "execution_count": 2,
   "metadata": {
    "_cell_guid": "b1076dfc-b9ad-4769-8c92-a6c4dae69d19",
    "_uuid": "8f2839f25d086af736a60e9eeb907d3b93b6e0e5",
    "execution": {
     "iopub.execute_input": "2021-02-09T06:32:21.039332Z",
     "iopub.status.busy": "2021-02-09T06:32:21.038630Z",
     "iopub.status.idle": "2021-02-09T06:32:21.067394Z",
     "shell.execute_reply": "2021-02-09T06:32:21.068053Z"
    },
    "papermill": {
     "duration": 0.0606,
     "end_time": "2021-02-09T06:32:21.068190",
     "exception": false,
     "start_time": "2021-02-09T06:32:21.007590",
     "status": "completed"
    },
    "tags": []
   },
   "outputs": [
    {
     "name": "stdout",
     "output_type": "stream",
     "text": [
      "(6469, 2)\n"
     ]
    },
    {
     "data": {
      "text/html": [
       "<div>\n",
       "<style scoped>\n",
       "    .dataframe tbody tr th:only-of-type {\n",
       "        vertical-align: middle;\n",
       "    }\n",
       "\n",
       "    .dataframe tbody tr th {\n",
       "        vertical-align: top;\n",
       "    }\n",
       "\n",
       "    .dataframe thead th {\n",
       "        text-align: right;\n",
       "    }\n",
       "</style>\n",
       "<table border=\"1\" class=\"dataframe\">\n",
       "  <thead>\n",
       "    <tr style=\"text-align: right;\">\n",
       "      <th></th>\n",
       "      <th>Image</th>\n",
       "      <th>Class</th>\n",
       "    </tr>\n",
       "  </thead>\n",
       "  <tbody>\n",
       "    <tr>\n",
       "      <th>0</th>\n",
       "      <td>image3476.jpg</td>\n",
       "      <td>Miscellaneous</td>\n",
       "    </tr>\n",
       "    <tr>\n",
       "      <th>1</th>\n",
       "      <td>image5198.jpg</td>\n",
       "      <td>Candle</td>\n",
       "    </tr>\n",
       "    <tr>\n",
       "      <th>2</th>\n",
       "      <td>image4183.jpg</td>\n",
       "      <td>Snowman</td>\n",
       "    </tr>\n",
       "    <tr>\n",
       "      <th>3</th>\n",
       "      <td>image1806.jpg</td>\n",
       "      <td>Miscellaneous</td>\n",
       "    </tr>\n",
       "    <tr>\n",
       "      <th>4</th>\n",
       "      <td>image7831.jpg</td>\n",
       "      <td>Miscellaneous</td>\n",
       "    </tr>\n",
       "  </tbody>\n",
       "</table>\n",
       "</div>"
      ],
      "text/plain": [
       "           Image          Class\n",
       "0  image3476.jpg  Miscellaneous\n",
       "1  image5198.jpg         Candle\n",
       "2  image4183.jpg        Snowman\n",
       "3  image1806.jpg  Miscellaneous\n",
       "4  image7831.jpg  Miscellaneous"
      ]
     },
     "execution_count": 2,
     "metadata": {},
     "output_type": "execute_result"
    }
   ],
   "source": [
    "train_data = pd.read_csv(\"../input/holiday-season/dataset/train.csv\")\n",
    "print(train_data.shape)\n",
    "train_data.head()"
   ]
  },
  {
   "cell_type": "code",
   "execution_count": 3,
   "metadata": {
    "execution": {
     "iopub.execute_input": "2021-02-09T06:32:21.119620Z",
     "iopub.status.busy": "2021-02-09T06:32:21.118690Z",
     "iopub.status.idle": "2021-02-09T06:32:21.122088Z",
     "shell.execute_reply": "2021-02-09T06:32:21.122781Z"
    },
    "papermill": {
     "duration": 0.032238,
     "end_time": "2021-02-09T06:32:21.122979",
     "exception": false,
     "start_time": "2021-02-09T06:32:21.090741",
     "status": "completed"
    },
    "tags": []
   },
   "outputs": [
    {
     "data": {
      "text/plain": [
       "(6469, 2)"
      ]
     },
     "execution_count": 3,
     "metadata": {},
     "output_type": "execute_result"
    }
   ],
   "source": [
    "train_data.shape"
   ]
  },
  {
   "cell_type": "code",
   "execution_count": 4,
   "metadata": {
    "execution": {
     "iopub.execute_input": "2021-02-09T06:32:21.177501Z",
     "iopub.status.busy": "2021-02-09T06:32:21.176588Z",
     "iopub.status.idle": "2021-02-09T06:32:21.180060Z",
     "shell.execute_reply": "2021-02-09T06:32:21.180558Z"
    },
    "papermill": {
     "duration": 0.035552,
     "end_time": "2021-02-09T06:32:21.180693",
     "exception": false,
     "start_time": "2021-02-09T06:32:21.145141",
     "status": "completed"
    },
    "tags": []
   },
   "outputs": [
    {
     "data": {
      "text/plain": [
       "{0: 'Airplane',\n",
       " 1: 'Candle',\n",
       " 2: 'Christmas_Tree',\n",
       " 3: 'Jacket',\n",
       " 4: 'Miscellaneous',\n",
       " 5: 'Snowman'}"
      ]
     },
     "execution_count": 4,
     "metadata": {},
     "output_type": "execute_result"
    }
   ],
   "source": [
    "#Encoding Output Variables\n",
    "le = LabelEncoder()\n",
    "train_data.Class = le.fit_transform(train_data.Class)\n",
    "y_dict = dict(zip(range(len(le.classes_)),le.classes_))\n",
    "y_dict"
   ]
  },
  {
   "cell_type": "code",
   "execution_count": 5,
   "metadata": {
    "execution": {
     "iopub.execute_input": "2021-02-09T06:32:21.234390Z",
     "iopub.status.busy": "2021-02-09T06:32:21.233353Z",
     "iopub.status.idle": "2021-02-09T06:32:21.237551Z",
     "shell.execute_reply": "2021-02-09T06:32:21.237023Z"
    },
    "papermill": {
     "duration": 0.033968,
     "end_time": "2021-02-09T06:32:21.237672",
     "exception": false,
     "start_time": "2021-02-09T06:32:21.203704",
     "status": "completed"
    },
    "tags": []
   },
   "outputs": [
    {
     "data": {
      "text/html": [
       "<div>\n",
       "<style scoped>\n",
       "    .dataframe tbody tr th:only-of-type {\n",
       "        vertical-align: middle;\n",
       "    }\n",
       "\n",
       "    .dataframe tbody tr th {\n",
       "        vertical-align: top;\n",
       "    }\n",
       "\n",
       "    .dataframe thead th {\n",
       "        text-align: right;\n",
       "    }\n",
       "</style>\n",
       "<table border=\"1\" class=\"dataframe\">\n",
       "  <thead>\n",
       "    <tr style=\"text-align: right;\">\n",
       "      <th></th>\n",
       "      <th>Image</th>\n",
       "      <th>Class</th>\n",
       "    </tr>\n",
       "  </thead>\n",
       "  <tbody>\n",
       "    <tr>\n",
       "      <th>0</th>\n",
       "      <td>image3476.jpg</td>\n",
       "      <td>4</td>\n",
       "    </tr>\n",
       "    <tr>\n",
       "      <th>1</th>\n",
       "      <td>image5198.jpg</td>\n",
       "      <td>1</td>\n",
       "    </tr>\n",
       "    <tr>\n",
       "      <th>2</th>\n",
       "      <td>image4183.jpg</td>\n",
       "      <td>5</td>\n",
       "    </tr>\n",
       "    <tr>\n",
       "      <th>3</th>\n",
       "      <td>image1806.jpg</td>\n",
       "      <td>4</td>\n",
       "    </tr>\n",
       "    <tr>\n",
       "      <th>4</th>\n",
       "      <td>image7831.jpg</td>\n",
       "      <td>4</td>\n",
       "    </tr>\n",
       "  </tbody>\n",
       "</table>\n",
       "</div>"
      ],
      "text/plain": [
       "           Image  Class\n",
       "0  image3476.jpg      4\n",
       "1  image5198.jpg      1\n",
       "2  image4183.jpg      5\n",
       "3  image1806.jpg      4\n",
       "4  image7831.jpg      4"
      ]
     },
     "execution_count": 5,
     "metadata": {},
     "output_type": "execute_result"
    }
   ],
   "source": [
    "train_data.head()"
   ]
  },
  {
   "cell_type": "code",
   "execution_count": 6,
   "metadata": {
    "execution": {
     "iopub.execute_input": "2021-02-09T06:32:21.292092Z",
     "iopub.status.busy": "2021-02-09T06:32:21.291386Z",
     "iopub.status.idle": "2021-02-09T06:32:21.311237Z",
     "shell.execute_reply": "2021-02-09T06:32:21.307408Z"
    },
    "papermill": {
     "duration": 0.049793,
     "end_time": "2021-02-09T06:32:21.311408",
     "exception": false,
     "start_time": "2021-02-09T06:32:21.261615",
     "status": "completed"
    },
    "tags": []
   },
   "outputs": [
    {
     "data": {
      "text/plain": [
       "4    0.432988\n",
       "2    0.237904\n",
       "3    0.098933\n",
       "1    0.091668\n",
       "0    0.082702\n",
       "5    0.055805\n",
       "Name: Class, dtype: float64"
      ]
     },
     "execution_count": 6,
     "metadata": {},
     "output_type": "execute_result"
    }
   ],
   "source": [
    "train_data.Class.value_counts(normalize = True)"
   ]
  },
  {
   "cell_type": "code",
   "execution_count": 7,
   "metadata": {
    "execution": {
     "iopub.execute_input": "2021-02-09T06:32:21.371305Z",
     "iopub.status.busy": "2021-02-09T06:32:21.370621Z",
     "iopub.status.idle": "2021-02-09T06:32:21.386182Z",
     "shell.execute_reply": "2021-02-09T06:32:21.385579Z"
    },
    "papermill": {
     "duration": 0.048726,
     "end_time": "2021-02-09T06:32:21.386302",
     "exception": false,
     "start_time": "2021-02-09T06:32:21.337576",
     "status": "completed"
    },
    "tags": []
   },
   "outputs": [
    {
     "data": {
      "text/plain": [
       "((5175, 2), (1294, 2))"
      ]
     },
     "execution_count": 7,
     "metadata": {},
     "output_type": "execute_result"
    }
   ],
   "source": [
    "#Splitting dataset into train and validation\n",
    "df_train, df_val = train_test_split(\n",
    "    train_data,\n",
    "    test_size = 0.2,\n",
    "    stratify = train_data['Class'],\n",
    "    shuffle = True\n",
    ")\n",
    "df_train = df_train.reset_index(drop = True)\n",
    "df_val = df_val.reset_index(drop = True)\n",
    "df_train.shape, df_val.shape"
   ]
  },
  {
   "cell_type": "code",
   "execution_count": 8,
   "metadata": {
    "execution": {
     "iopub.execute_input": "2021-02-09T06:32:21.464103Z",
     "iopub.status.busy": "2021-02-09T06:32:21.457127Z",
     "iopub.status.idle": "2021-02-09T06:32:21.468123Z",
     "shell.execute_reply": "2021-02-09T06:32:21.467543Z"
    },
    "papermill": {
     "duration": 0.055102,
     "end_time": "2021-02-09T06:32:21.468248",
     "exception": false,
     "start_time": "2021-02-09T06:32:21.413146",
     "status": "completed"
    },
    "tags": []
   },
   "outputs": [
    {
     "data": {
      "text/plain": [
       "['../input/holiday-season/dataset/train/image1213.jpg',\n",
       " '../input/holiday-season/dataset/train/image2784.jpg',\n",
       " '../input/holiday-season/dataset/train/image2864.jpg',\n",
       " '../input/holiday-season/dataset/train/image6990.jpg',\n",
       " '../input/holiday-season/dataset/train/image1033.jpg']"
      ]
     },
     "execution_count": 8,
     "metadata": {},
     "output_type": "execute_result"
    }
   ],
   "source": [
    "#Loading Paths for Training and Validation Images\n",
    "train_path = '../input/holiday-season/dataset/train'\n",
    "train_image_paths = [\n",
    "    os.path.join(train_path,i) for i in df_train.Image.values\n",
    "]\n",
    "val_image_paths = [\n",
    "    os.path.join(train_path,i) for i in df_val.Image.values\n",
    "]\n",
    "train_image_paths[:5]"
   ]
  },
  {
   "cell_type": "code",
   "execution_count": 9,
   "metadata": {
    "execution": {
     "iopub.execute_input": "2021-02-09T06:32:21.529668Z",
     "iopub.status.busy": "2021-02-09T06:32:21.528842Z",
     "iopub.status.idle": "2021-02-09T06:32:21.532846Z",
     "shell.execute_reply": "2021-02-09T06:32:21.532319Z"
    },
    "papermill": {
     "duration": 0.03567,
     "end_time": "2021-02-09T06:32:21.532979",
     "exception": false,
     "start_time": "2021-02-09T06:32:21.497309",
     "status": "completed"
    },
    "tags": []
   },
   "outputs": [
    {
     "data": {
      "text/plain": [
       "array([4, 4, 4, ..., 2, 3, 2])"
      ]
     },
     "execution_count": 9,
     "metadata": {},
     "output_type": "execute_result"
    }
   ],
   "source": [
    "#Loading Classes for images\n",
    "train_targets = df_train.Class.values\n",
    "val_targets = df_val.Class.values\n",
    "train_targets"
   ]
  },
  {
   "cell_type": "markdown",
   "metadata": {
    "papermill": {
     "duration": 0.025912,
     "end_time": "2021-02-09T06:32:21.585494",
     "exception": false,
     "start_time": "2021-02-09T06:32:21.559582",
     "status": "completed"
    },
    "tags": []
   },
   "source": [
    "3. Creating Dataset"
   ]
  },
  {
   "cell_type": "code",
   "execution_count": 10,
   "metadata": {
    "execution": {
     "iopub.execute_input": "2021-02-09T06:32:21.642970Z",
     "iopub.status.busy": "2021-02-09T06:32:21.642216Z",
     "iopub.status.idle": "2021-02-09T06:32:21.644682Z",
     "shell.execute_reply": "2021-02-09T06:32:21.645315Z"
    },
    "papermill": {
     "duration": 0.035337,
     "end_time": "2021-02-09T06:32:21.645484",
     "exception": false,
     "start_time": "2021-02-09T06:32:21.610147",
     "status": "completed"
    },
    "tags": []
   },
   "outputs": [],
   "source": [
    "class HolidayImageDataset:\n",
    "    def __init__(self, \n",
    "                 image_paths,\n",
    "                 targets,\n",
    "                 augmentations = None\n",
    "                ):\n",
    "        self.image_paths = image_paths\n",
    "        self.targets = targets\n",
    "        self.augmentations = augmentations\n",
    "    def __len__(self):\n",
    "        return len(self.image_paths)\n",
    "    def __getitem__(self,item):\n",
    "        targets = self.targets[item]\n",
    "        image = cv2.imread(self.image_paths[item])\n",
    "        image = cv2.cvtColor(image, cv2.COLOR_BGR2RGB)\n",
    "        if self.augmentations is not None:\n",
    "                augmented = self.augmentations(image=image)\n",
    "                image = augmented[\"image\"]\n",
    "        image = np.transpose(image, (2, 0, 1)).astype(np.float32) \n",
    "        return {\n",
    "            \"image\": torch.tensor(image),\n",
    "            \"targets\": torch.tensor(targets),\n",
    "        }"
   ]
  },
  {
   "cell_type": "markdown",
   "metadata": {
    "papermill": {
     "duration": 0.025276,
     "end_time": "2021-02-09T06:32:21.697116",
     "exception": false,
     "start_time": "2021-02-09T06:32:21.671840",
     "status": "completed"
    },
    "tags": []
   },
   "source": [
    "4. Creating Transformations for Training and Validation"
   ]
  },
  {
   "cell_type": "code",
   "execution_count": 11,
   "metadata": {
    "execution": {
     "iopub.execute_input": "2021-02-09T06:32:21.752879Z",
     "iopub.status.busy": "2021-02-09T06:32:21.752134Z",
     "iopub.status.idle": "2021-02-09T06:32:21.754561Z",
     "shell.execute_reply": "2021-02-09T06:32:21.755192Z"
    },
    "papermill": {
     "duration": 0.033267,
     "end_time": "2021-02-09T06:32:21.755328",
     "exception": false,
     "start_time": "2021-02-09T06:32:21.722061",
     "status": "completed"
    },
    "tags": []
   },
   "outputs": [],
   "source": [
    "train_aug = albumentations.Compose(\n",
    "    [\n",
    "        albumentations.RandomResizedCrop(64,64),\n",
    "        albumentations.Transpose(p=0.5),\n",
    "        albumentations.HorizontalFlip(p=0.5),\n",
    "        albumentations.VerticalFlip(p=0.5)\n",
    "    ]\n",
    ")\n",
    "val_aug = albumentations.Compose(\n",
    "    [\n",
    "        albumentations.Resize(64,64),\n",
    "        albumentations.Transpose(p=0.5),\n",
    "        albumentations.HorizontalFlip(p=0.5),\n",
    "        albumentations.VerticalFlip(p=0.5)\n",
    "    ]\n",
    ")"
   ]
  },
  {
   "cell_type": "code",
   "execution_count": 12,
   "metadata": {
    "execution": {
     "iopub.execute_input": "2021-02-09T06:32:21.810383Z",
     "iopub.status.busy": "2021-02-09T06:32:21.809711Z",
     "iopub.status.idle": "2021-02-09T06:32:21.887272Z",
     "shell.execute_reply": "2021-02-09T06:32:21.886814Z"
    },
    "papermill": {
     "duration": 0.107118,
     "end_time": "2021-02-09T06:32:21.887420",
     "exception": false,
     "start_time": "2021-02-09T06:32:21.780302",
     "status": "completed"
    },
    "tags": []
   },
   "outputs": [
    {
     "data": {
      "text/plain": [
       "torch.Size([3, 64, 64])"
      ]
     },
     "execution_count": 12,
     "metadata": {},
     "output_type": "execute_result"
    }
   ],
   "source": [
    "#Creating train and validation set\n",
    "train_dataset = HolidayImageDataset(\n",
    "    train_image_paths,\n",
    "    train_targets,\n",
    "    augmentations = train_aug\n",
    ")\n",
    "\n",
    "val_dataset = HolidayImageDataset(\n",
    "    val_image_paths,\n",
    "    val_targets,\n",
    "    augmentations = val_aug\n",
    ")\n",
    "\n",
    "BATCH_SIZE = 16\n",
    "train_dataloader = DataLoader(train_dataset, batch_size = BATCH_SIZE, shuffle = True)\n",
    "val_dataloader = DataLoader(val_dataset, batch_size = BATCH_SIZE, shuffle = True)\n",
    "train_dataset[100]['image'].shape"
   ]
  },
  {
   "cell_type": "code",
   "execution_count": 13,
   "metadata": {
    "execution": {
     "iopub.execute_input": "2021-02-09T06:32:21.943007Z",
     "iopub.status.busy": "2021-02-09T06:32:21.942316Z",
     "iopub.status.idle": "2021-02-09T06:32:21.971317Z",
     "shell.execute_reply": "2021-02-09T06:32:21.970859Z"
    },
    "papermill": {
     "duration": 0.058334,
     "end_time": "2021-02-09T06:32:21.971458",
     "exception": false,
     "start_time": "2021-02-09T06:32:21.913124",
     "status": "completed"
    },
    "tags": []
   },
   "outputs": [
    {
     "data": {
      "text/plain": [
       "tensor(4)"
      ]
     },
     "execution_count": 13,
     "metadata": {},
     "output_type": "execute_result"
    }
   ],
   "source": [
    "train_dataset[100][\"targets\"]"
   ]
  },
  {
   "cell_type": "code",
   "execution_count": 14,
   "metadata": {
    "execution": {
     "iopub.execute_input": "2021-02-09T06:32:22.028456Z",
     "iopub.status.busy": "2021-02-09T06:32:22.027700Z",
     "iopub.status.idle": "2021-02-09T06:32:22.030658Z",
     "shell.execute_reply": "2021-02-09T06:32:22.030178Z"
    },
    "papermill": {
     "duration": 0.03323,
     "end_time": "2021-02-09T06:32:22.030776",
     "exception": false,
     "start_time": "2021-02-09T06:32:21.997546",
     "status": "completed"
    },
    "tags": []
   },
   "outputs": [],
   "source": [
    "#Plotting an image\n",
    "def plot_img(image_dict):\n",
    "    img_tensor = image_dict['image']\n",
    "    target = image_dict['targets']\n",
    "    print(target)\n",
    "    plt.figure(figsize = (5,5))\n",
    "    image = img_tensor.permute(1,2,0) / 255\n",
    "    plt.imshow(image)"
   ]
  },
  {
   "cell_type": "code",
   "execution_count": 15,
   "metadata": {
    "execution": {
     "iopub.execute_input": "2021-02-09T06:32:22.087019Z",
     "iopub.status.busy": "2021-02-09T06:32:22.086250Z",
     "iopub.status.idle": "2021-02-09T06:32:22.465416Z",
     "shell.execute_reply": "2021-02-09T06:32:22.464683Z"
    },
    "papermill": {
     "duration": 0.408463,
     "end_time": "2021-02-09T06:32:22.465609",
     "exception": false,
     "start_time": "2021-02-09T06:32:22.057146",
     "status": "completed"
    },
    "tags": []
   },
   "outputs": [
    {
     "name": "stdout",
     "output_type": "stream",
     "text": [
      "tensor(4)\n"
     ]
    },
    {
     "data": {
      "image/png": "[encoded data removed]",
      "text/plain": [
       "<Figure size 360x360 with 1 Axes>"
      ]
     },
     "metadata": {
      "needs_background": "light"
     },
     "output_type": "display_data"
    }
   ],
   "source": [
    "plot_img(train_dataset[1])"
   ]
  },
  {
   "cell_type": "markdown",
   "metadata": {
    "papermill": {
     "duration": 0.039223,
     "end_time": "2021-02-09T06:32:22.546485",
     "exception": false,
     "start_time": "2021-02-09T06:32:22.507262",
     "status": "completed"
    },
    "tags": []
   },
   "source": [
    "6. Creating Model Class"
   ]
  },
  {
   "cell_type": "code",
   "execution_count": 16,
   "metadata": {
    "execution": {
     "iopub.execute_input": "2021-02-09T06:32:22.630949Z",
     "iopub.status.busy": "2021-02-09T06:32:22.630147Z",
     "iopub.status.idle": "2021-02-09T06:32:22.648130Z",
     "shell.execute_reply": "2021-02-09T06:32:22.649146Z"
    },
    "papermill": {
     "duration": 0.065211,
     "end_time": "2021-02-09T06:32:22.649327",
     "exception": false,
     "start_time": "2021-02-09T06:32:22.584116",
     "status": "completed"
    },
    "tags": []
   },
   "outputs": [],
   "source": [
    "class HolidaySeasonModel(nn.Module):\n",
    "    def __init__(self, num_classes,pretrained = True):\n",
    "        super().__init__()\n",
    "        self.convnet = torchvision.models.resnext50_32x4d(pretrained = pretrained)\n",
    "        self.convnet.fc = nn.Linear(2048, num_classes)\n",
    "        \n",
    "    def loss(self, outputs, targets):\n",
    "        if targets is None:\n",
    "            return None\n",
    "        return nn.CrossEntropyLoss()(outputs, targets)\n",
    "    \n",
    "    def fetch_optimizer(self):\n",
    "        opt = Adam(self.parameters(), lr = 1e-3)\n",
    "        return opt\n",
    "    \n",
    "    def train_one_epoch(self, data_loader):\n",
    "        self.train()\n",
    "        tk0 = tqdm(data_loader, total=len(data_loader))\n",
    "        for b_idx, data in enumerate(tk0):\n",
    "            loss, metrics = self.train_one_step(data)\n",
    "            losses.update(loss.item(), data_loader.batch_size)\n",
    "        return losses.avg\n",
    "    \n",
    "    def train_one_step(self, data):\n",
    "        self.optimizer.zero_grad()\n",
    "        _, loss, metrics = self.model_fn(data)\n",
    "        \n",
    "        with torch.set_grad_enabled(True):\n",
    "            if self.fp16:\n",
    "                with torch.cuda.amp.autocast():\n",
    "                    self.scaler.scale(loss).backward()\n",
    "                    self.scaler.step(self.optimizer)\n",
    "                    self.scaler.update()\n",
    "            else:\n",
    "                loss.backward()\n",
    "                self.optimizer.step()\n",
    "        if self.scheduler:\n",
    "            if self.step_scheduler_after == \"batch\":\n",
    "                if self.step_scheduler_metric is None:\n",
    "                    self.scheduler.step()\n",
    "                else:\n",
    "                    step_metric = self.name_to_metric(self.step_scheduler_metric)\n",
    "                    self.scheduler.step(step_metric)\n",
    "        return loss, metrics\n",
    "\n",
    "    \n",
    "    def forward(self, image, targets = None):\n",
    "        outputs = self.convnet(image)\n",
    "        if targets is not None:\n",
    "            loss = self.loss(outputs, targets)\n",
    "            return outputs, loss\n",
    "        return outputs, None\n",
    "    \n",
    "    def fit(self, \n",
    "            train_dataset,\n",
    "            valid_dataset=None,\n",
    "            device=\"cuda\",\n",
    "            epochs=10,\n",
    "            train_bs=16,\n",
    "            valid_bs=16,\n",
    "            ):\n",
    "        self.train_loader = DataLoader(\n",
    "                train_dataset,\n",
    "                batch_size=train_bs,\n",
    "                shuffle=True,\n",
    "            )\n",
    "        if valid_dataset is not None:\n",
    "            self.val_loader = DataLoader(\n",
    "                    train_dataset,\n",
    "                    batch_size=train_bs,\n",
    "                    shuffle=True,\n",
    "                )\n",
    "        self.optimizer = self.fetch_optimizer()\n",
    "        \n",
    "        for _ in range(epochs):\n",
    "            train_loss = self.train_one_epoch(self.train_loader)\n",
    "            if self.valid_loader:\n",
    "                valid_loss = self.validate_one_epoch(self.valid_loader)\n",
    "            self.optimizer.step()\n",
    "            if self._model_state.value == \"end\":\n",
    "                break\n",
    "            self.current_epoch += 1\n",
    "        self.train_state = enums.TrainingState.TRAIN_END"
   ]
  },
  {
   "cell_type": "code",
   "execution_count": 17,
   "metadata": {
    "execution": {
     "iopub.execute_input": "2021-02-09T06:32:22.742010Z",
     "iopub.status.busy": "2021-02-09T06:32:22.740907Z",
     "iopub.status.idle": "2021-02-09T06:32:24.894210Z",
     "shell.execute_reply": "2021-02-09T06:32:24.893660Z"
    },
    "papermill": {
     "duration": 2.20609,
     "end_time": "2021-02-09T06:32:24.894376",
     "exception": false,
     "start_time": "2021-02-09T06:32:22.688286",
     "status": "completed"
    },
    "tags": []
   },
   "outputs": [
    {
     "name": "stderr",
     "output_type": "stream",
     "text": [
      "Downloading: \"https://download.pytorch.org/models/resnext50_32x4d-7cdf4587.pth\" to /root/.cache/torch/hub/checkpoints/resnext50_32x4d-7cdf4587.pth\n"
     ]
    },
    {
     "data": {
      "application/vnd.jupyter.widget-view+json": {
       "model_id": "8e65242c940442fa94fa7d4204f698d8",
       "version_major": 2,
       "version_minor": 0
      },
      "text/plain": [
       "  0%|          | 0.00/95.8M [00:00<?, ?B/s]"
      ]
     },
     "metadata": {},
     "output_type": "display_data"
    }
   ],
   "source": [
    "model = HolidaySeasonModel(num_classes = train_data.Class.nunique(),pretrained = True)"
   ]
  },
  {
   "cell_type": "code",
   "execution_count": 18,
   "metadata": {
    "execution": {
     "iopub.execute_input": "2021-02-09T06:32:24.962980Z",
     "iopub.status.busy": "2021-02-09T06:32:24.962151Z",
     "iopub.status.idle": "2021-02-09T06:32:24.964766Z",
     "shell.execute_reply": "2021-02-09T06:32:24.965217Z"
    },
    "papermill": {
     "duration": 0.040555,
     "end_time": "2021-02-09T06:32:24.965399",
     "exception": false,
     "start_time": "2021-02-09T06:32:24.924844",
     "status": "completed"
    },
    "tags": []
   },
   "outputs": [],
   "source": [
    "optimizer = Adam(model.parameters(), lr = 1e-3)"
   ]
  },
  {
   "cell_type": "markdown",
   "metadata": {
    "papermill": {
     "duration": 0.029166,
     "end_time": "2021-02-09T06:32:25.024414",
     "exception": false,
     "start_time": "2021-02-09T06:32:24.995248",
     "status": "completed"
    },
    "tags": []
   },
   "source": [
    "Training the model"
   ]
  },
  {
   "cell_type": "code",
   "execution_count": 19,
   "metadata": {
    "execution": {
     "iopub.execute_input": "2021-02-09T06:32:25.105182Z",
     "iopub.status.busy": "2021-02-09T06:32:25.104268Z",
     "iopub.status.idle": "2021-02-09T06:45:44.925045Z",
     "shell.execute_reply": "2021-02-09T06:45:44.925629Z"
    },
    "papermill": {
     "duration": 799.870742,
     "end_time": "2021-02-09T06:45:44.925814",
     "exception": false,
     "start_time": "2021-02-09T06:32:25.055072",
     "status": "completed"
    },
    "tags": []
   },
   "outputs": [
    {
     "name": "stdout",
     "output_type": "stream",
     "text": [
      "Epoch:0 Train Loss:0.08874421892534708 F1-Score Train:0.4641398467470278\n",
      "Epoch:0 Valid Loss:0.23962358630606342 F1-Score Val:0.497681992041484\n",
      "Epoch:1 Train Loss:0.08263754201971966 F1-Score Train:0.469730745453362\n",
      "Epoch:1 Valid Loss:0.0735054952099666 F1-Score Val:0.515258965794733\n",
      "Epoch:2 Train Loss:0.07761429092158442 F1-Score Train:0.4809804729375677\n",
      "Epoch:2 Valid Loss:0.06927789777655506 F1-Score Val:0.5321667421048807\n",
      "Epoch:3 Train Loss:0.07747662643303618 F1-Score Train:0.4876202570033961\n",
      "Epoch:3 Valid Loss:0.08141194539608138 F1-Score Val:0.5368554434085533\n",
      "Epoch:4 Train Loss:0.07601859373746862 F1-Score Train:0.4920030334338451\n",
      "Epoch:4 Valid Loss:0.07032626102659766 F1-Score Val:0.5401693833330432\n",
      "Epoch:5 Train Loss:0.07462537275996185 F1-Score Train:0.4967061690364046\n",
      "Epoch:5 Valid Loss:0.06750792895992166 F1-Score Val:0.5487037632381365\n",
      "Epoch:6 Train Loss:0.07481295433597289 F1-Score Train:0.49991428711020836\n",
      "Epoch:6 Valid Loss:0.07705055465101275 F1-Score Val:0.5567858745867524\n",
      "Epoch:7 Train Loss:0.07303623659023341 F1-Score Train:0.5031117569122538\n",
      "Epoch:7 Valid Loss:0.07718953960092949 F1-Score Val:0.5582734852107594\n",
      "Epoch:8 Train Loss:0.07079189914436156 F1-Score Train:0.5086171435378196\n",
      "Epoch:8 Valid Loss:0.06552509118268811 F1-Score Val:0.5621203265805017\n",
      "Epoch:9 Train Loss:0.06933291926476115 F1-Score Train:0.5131892826980404\n",
      "Epoch:9 Valid Loss:0.06351396623405828 F1-Score Val:0.5651426966236531\n",
      "Epoch:10 Train Loss:0.06740367742552274 F1-Score Train:0.5184739531638726\n",
      "Epoch:10 Valid Loss:0.06566111690478495 F1-Score Val:0.5697306356637221\n",
      "Epoch:11 Train Loss:0.06707649019029405 F1-Score Train:0.5226950897387155\n",
      "Epoch:11 Valid Loss:0.05772047857228534 F1-Score Val:0.5750873942315768\n",
      "Epoch:12 Train Loss:0.06518569648553783 F1-Score Train:0.5282334030183312\n",
      "Epoch:12 Valid Loss:0.06360742958749097 F1-Score Val:0.5768882011850238\n",
      "Epoch:13 Train Loss:0.06483832414599433 F1-Score Train:0.5325473350173385\n",
      "Epoch:13 Valid Loss:0.06831575342823955 F1-Score Val:0.5790121108305487\n",
      "Epoch:14 Train Loss:0.06359999451660303 F1-Score Train:0.536880875734246\n",
      "Epoch:14 Valid Loss:0.0569618582449151 F1-Score Val:0.5835412415713651\n",
      "Epoch:15 Train Loss:0.06279266260672306 F1-Score Train:0.5410180762671892\n",
      "Epoch:15 Valid Loss:0.053962965975220455 F1-Score Val:0.5884369143872313\n",
      "Epoch:16 Train Loss:0.06030637901762258 F1-Score Train:0.5455350954727957\n",
      "Epoch:16 Valid Loss:0.056497685530638955 F1-Score Val:0.5944179972825814\n",
      "Epoch:17 Train Loss:0.061633877414436156 F1-Score Train:0.5491476117950337\n",
      "Epoch:17 Valid Loss:0.05474701169100943 F1-Score Val:0.5982413472602012\n",
      "Epoch:18 Train Loss:0.061529060607947016 F1-Score Train:0.5525213701161578\n",
      "Epoch:18 Valid Loss:0.05511956838128003 F1-Score Val:0.6029375943639963\n",
      "Epoch:19 Train Loss:0.059658034884411355 F1-Score Train:0.5565935954763862\n",
      "Epoch:19 Valid Loss:0.05641629211777329 F1-Score Val:0.6057465450308435\n"
     ]
    }
   ],
   "source": [
    "train_loss_list = []\n",
    "val_loss_list = []\n",
    "train_f1 = []\n",
    "val_f1 = []\n",
    "train_preds = []\n",
    "val_preds = []\n",
    "train_actuals = []\n",
    "val_actuals = []\n",
    "#Empty the GPU memory as it might be memory and CPU intensive while training\n",
    "torch.cuda.empty_cache()\n",
    "#Number of times the whole dataset will run through the network and model is fine-tuned\n",
    "epochs = 20\n",
    "#Iterate over number of epochs\n",
    "model.cuda()\n",
    "\n",
    "for i in range(epochs):\n",
    "    #Switch model to train phase where it will update gradients\n",
    "    model.train()\n",
    "    #Initaite train and validation loss, number of rows passed and number of batches passed\n",
    "    tr_loss = 0\n",
    "    nb_tr_examples, nb_tr_steps = 0, 0\n",
    "    val_loss = 0\n",
    "    nb_val_examples, nb_val_steps = 0, 0\n",
    "    #Iterate over batches within the same epoch\n",
    "    for batch in train_dataloader:\n",
    "        images, classes = batch['image'].to(device), batch['targets'].to(device)\n",
    "        #Initiate gradients to 0 as they tend to add up\n",
    "        optimizer.zero_grad()\n",
    "        #Forward pass the input data\n",
    "        outputs, loss = model(images, classes)\n",
    "        #We will be using the Binary Cross entropy loss with added sigmoid function after that in BCEWithLogitsLoss\n",
    "        loss.backward()\n",
    "        #Update the weights with the calculated gradients\n",
    "        optimizer.step()\n",
    "        #Add the loss of the batch to the final loss, number of rows and batches\n",
    "        tr_loss += loss.item()\n",
    "        nb_tr_examples += len(batch['targets'])\n",
    "        nb_tr_steps += 1\n",
    "        #\n",
    "        _, predicted = torch.max(outputs.cpu(),1)\n",
    "        train_preds.extend(list(predicted.numpy()))\n",
    "        train_actuals.extend(list(classes.cpu().numpy()))\n",
    "    f1_score_train = f1_score(train_actuals, train_preds, average = 'weighted')\n",
    "    train_loss_list.append(tr_loss/nb_tr_examples)\n",
    "    #Print the current training loss \n",
    "    print(\"Epoch:{} Train Loss:{} F1-Score Train:{}\".format(i,tr_loss/nb_tr_examples,f1_score_train))\n",
    "    #Switch the model to evaluate stage at which the gradients wont be updated\n",
    "    model.eval()\n",
    "    #Iterate over the validation data\n",
    "    for step, batch in enumerate(val_dataloader):\n",
    "        #We dont want to update the gradients\n",
    "        with torch.no_grad():\n",
    "            images, classes = batch['image'].to(device), batch['targets'].to(device)\n",
    "\n",
    "            #Forward pass the input data\n",
    "            outputs, loss = model(images, classes)\n",
    "            #We will be using the Binary Cross entropy loss with added sigmoid function after that in BCEWithLogitsLoss\n",
    "            val_loss += loss.item()\n",
    "            nb_val_examples += len(batch['targets'])\n",
    "            nb_val_steps += 1\n",
    "            _, predicted = torch.max(outputs.cpu(),1)\n",
    "            val_preds.extend(list(predicted.numpy()))\n",
    "            val_actuals.extend(list(classes.cpu().numpy()))\n",
    "    f1_score_val = f1_score(val_actuals, val_preds, average = 'weighted')\n",
    "    #Print the current validation loss\n",
    "    val_loss_list.append(val_loss/nb_val_examples)\n",
    "    print(\"Epoch:{} Valid Loss:{} F1-Score Val:{}\".format(i,val_loss/nb_val_examples, f1_score_val))"
   ]
  },
  {
   "cell_type": "code",
   "execution_count": 20,
   "metadata": {
    "execution": {
     "iopub.execute_input": "2021-02-09T06:45:45.056550Z",
     "iopub.status.busy": "2021-02-09T06:45:45.055617Z",
     "iopub.status.idle": "2021-02-09T06:45:45.365010Z",
     "shell.execute_reply": "2021-02-09T06:45:45.366303Z"
    },
    "papermill": {
     "duration": 0.394049,
     "end_time": "2021-02-09T06:45:45.366673",
     "exception": false,
     "start_time": "2021-02-09T06:45:44.972624",
     "status": "completed"
    },
    "tags": []
   },
   "outputs": [
    {
     "name": "stdout",
     "output_type": "stream",
     "text": [
      "              precision    recall  f1-score   support\n",
      "\n",
      "           0       0.49      0.18      0.26      8560\n",
      "           1       0.63      0.50      0.56      9480\n",
      "           2       0.69      0.66      0.68     24620\n",
      "           3       0.49      0.22      0.31     10240\n",
      "           4       0.56      0.80      0.66     44820\n",
      "           5       0.42      0.06      0.10      5780\n",
      "\n",
      "    accuracy                           0.59    103500\n",
      "   macro avg       0.55      0.40      0.43    103500\n",
      "weighted avg       0.58      0.59      0.56    103500\n",
      "\n"
     ]
    }
   ],
   "source": [
    "print(classification_report(train_actuals, train_preds))"
   ]
  },
  {
   "cell_type": "code",
   "execution_count": 21,
   "metadata": {
    "execution": {
     "iopub.execute_input": "2021-02-09T06:45:45.527005Z",
     "iopub.status.busy": "2021-02-09T06:45:45.526160Z",
     "iopub.status.idle": "2021-02-09T06:45:45.611448Z",
     "shell.execute_reply": "2021-02-09T06:45:45.612558Z"
    },
    "papermill": {
     "duration": 0.170893,
     "end_time": "2021-02-09T06:45:45.612768",
     "exception": false,
     "start_time": "2021-02-09T06:45:45.441875",
     "status": "completed"
    },
    "tags": []
   },
   "outputs": [
    {
     "name": "stdout",
     "output_type": "stream",
     "text": [
      "              precision    recall  f1-score   support\n",
      "\n",
      "           0       0.56      0.25      0.35      2140\n",
      "           1       0.70      0.54      0.61      2380\n",
      "           2       0.76      0.76      0.76      6160\n",
      "           3       0.40      0.41      0.41      2560\n",
      "           4       0.61      0.76      0.68     11200\n",
      "           5       0.48      0.08      0.13      1440\n",
      "\n",
      "    accuracy                           0.63     25880\n",
      "   macro avg       0.59      0.47      0.49     25880\n",
      "weighted avg       0.62      0.63      0.61     25880\n",
      "\n"
     ]
    }
   ],
   "source": [
    "print(classification_report(val_actuals, val_preds))"
   ]
  },
  {
   "cell_type": "code",
   "execution_count": 22,
   "metadata": {
    "execution": {
     "iopub.execute_input": "2021-02-09T06:45:45.755161Z",
     "iopub.status.busy": "2021-02-09T06:45:45.753746Z",
     "iopub.status.idle": "2021-02-09T06:45:45.961412Z",
     "shell.execute_reply": "2021-02-09T06:45:45.960614Z"
    },
    "papermill": {
     "duration": 0.283804,
     "end_time": "2021-02-09T06:45:45.961559",
     "exception": false,
     "start_time": "2021-02-09T06:45:45.677755",
     "status": "completed"
    },
    "tags": []
   },
   "outputs": [],
   "source": [
    "PATH = './holiday_season.pth'\n",
    "torch.save(model.state_dict(),PATH)"
   ]
  },
  {
   "cell_type": "code",
   "execution_count": 23,
   "metadata": {
    "execution": {
     "iopub.execute_input": "2021-02-09T06:45:46.078015Z",
     "iopub.status.busy": "2021-02-09T06:45:46.074701Z",
     "iopub.status.idle": "2021-02-09T06:45:46.252455Z",
     "shell.execute_reply": "2021-02-09T06:45:46.252967Z"
    },
    "papermill": {
     "duration": 0.24669,
     "end_time": "2021-02-09T06:45:46.253139",
     "exception": false,
     "start_time": "2021-02-09T06:45:46.006449",
     "status": "completed"
    },
    "tags": []
   },
   "outputs": [
    {
     "data": {
      "text/plain": [
       "<matplotlib.legend.Legend at 0x7f28403afa10>"
      ]
     },
     "execution_count": 23,
     "metadata": {},
     "output_type": "execute_result"
    },
    {
     "data": {
      "image/png": "[encoded data removed]",
      "text/plain": [
       "<Figure size 432x288 with 1 Axes>"
      ]
     },
     "metadata": {
      "needs_background": "light"
     },
     "output_type": "display_data"
    }
   ],
   "source": [
    "plt.plot(val_loss_list, '-r', label = 'val_loss')\n",
    "plt.plot(train_loss_list, '-b', label='train_loss')\n",
    "plt.legend(loc='upper left')"
   ]
  },
  {
   "cell_type": "code",
   "execution_count": 24,
   "metadata": {
    "execution": {
     "iopub.execute_input": "2021-02-09T06:45:46.356749Z",
     "iopub.status.busy": "2021-02-09T06:45:46.356059Z",
     "iopub.status.idle": "2021-02-09T06:45:46.597229Z",
     "shell.execute_reply": "2021-02-09T06:45:46.597695Z"
    },
    "papermill": {
     "duration": 0.298826,
     "end_time": "2021-02-09T06:45:46.597857",
     "exception": false,
     "start_time": "2021-02-09T06:45:46.299031",
     "status": "completed"
    },
    "tags": []
   },
   "outputs": [
    {
     "name": "stdout",
     "output_type": "stream",
     "text": [
      "['../input/holiday-season/dataset/test/image7761.jpg', '../input/holiday-season/dataset/test/image3202.jpg', '../input/holiday-season/dataset/test/image688.jpg', '../input/holiday-season/dataset/test/image233.jpg', '../input/holiday-season/dataset/test/image4332.jpg']\n"
     ]
    }
   ],
   "source": [
    "#Loading Paths for Test Images\n",
    "import glob\n",
    "test_path = '../input/holiday-season/dataset/test/*.jpg'\n",
    "test_image_paths = glob.glob(test_path)\n",
    "test_targets = [0 for _ in test_image_paths]\n",
    "print(test_image_paths[:5])\n",
    "test_aug = albumentations.Compose(\n",
    "    [\n",
    "        albumentations.Resize(64,64),\n",
    "        albumentations.Transpose(p=0.5),\n",
    "        albumentations.HorizontalFlip(p=0.5),\n",
    "        albumentations.VerticalFlip(p=0.5)\n",
    "    ]\n",
    ")\n",
    "test_dataset = HolidayImageDataset(\n",
    "    test_image_paths,\n",
    "    test_targets,\n",
    "    augmentations = test_aug\n",
    ")\n",
    "\n",
    "BATCH_SIZE = 16\n",
    "test_dataloader = DataLoader(test_dataset, batch_size = BATCH_SIZE, shuffle = False)"
   ]
  },
  {
   "cell_type": "code",
   "execution_count": 25,
   "metadata": {
    "execution": {
     "iopub.execute_input": "2021-02-09T06:45:46.698895Z",
     "iopub.status.busy": "2021-02-09T06:45:46.698218Z",
     "iopub.status.idle": "2021-02-09T06:46:06.756884Z",
     "shell.execute_reply": "2021-02-09T06:46:06.755816Z"
    },
    "papermill": {
     "duration": 20.111754,
     "end_time": "2021-02-09T06:46:06.757045",
     "exception": false,
     "start_time": "2021-02-09T06:45:46.645291",
     "status": "completed"
    },
    "tags": []
   },
   "outputs": [],
   "source": [
    "predictions = []\n",
    "#Iterate over the validation data\n",
    "for step, batch in enumerate(test_dataloader):\n",
    "    #We dont want to update the gradients\n",
    "    with torch.no_grad():\n",
    "        images, classes = batch['image'].to(device), batch['targets'].to(device)\n",
    "        #Forward pass the input data\n",
    "        outputs = model(images)\n",
    "        _, predicted = torch.max(outputs[0].cpu(),1)\n",
    "        predictions.extend(list(predicted.numpy()))"
   ]
  },
  {
   "cell_type": "code",
   "execution_count": 26,
   "metadata": {
    "execution": {
     "iopub.execute_input": "2021-02-09T06:46:06.853937Z",
     "iopub.status.busy": "2021-02-09T06:46:06.853074Z",
     "iopub.status.idle": "2021-02-09T06:46:06.859306Z",
     "shell.execute_reply": "2021-02-09T06:46:06.859885Z"
    },
    "papermill": {
     "duration": 0.056991,
     "end_time": "2021-02-09T06:46:06.860051",
     "exception": false,
     "start_time": "2021-02-09T06:46:06.803060",
     "status": "completed"
    },
    "tags": []
   },
   "outputs": [
    {
     "data": {
      "text/plain": [
       "(3489, 3489)"
      ]
     },
     "execution_count": 26,
     "metadata": {},
     "output_type": "execute_result"
    }
   ],
   "source": [
    "arr = os.listdir('../input/holiday-season/dataset/test/')\n",
    "len(arr),len(predictions)"
   ]
  },
  {
   "cell_type": "code",
   "execution_count": 27,
   "metadata": {
    "execution": {
     "iopub.execute_input": "2021-02-09T06:46:06.974226Z",
     "iopub.status.busy": "2021-02-09T06:46:06.973490Z",
     "iopub.status.idle": "2021-02-09T06:46:07.139884Z",
     "shell.execute_reply": "2021-02-09T06:46:07.141197Z"
    },
    "papermill": {
     "duration": 0.228416,
     "end_time": "2021-02-09T06:46:07.141462",
     "exception": false,
     "start_time": "2021-02-09T06:46:06.913046",
     "status": "completed"
    },
    "tags": []
   },
   "outputs": [],
   "source": [
    "submissions = pd.DataFrame(zip(arr,predictions), columns = ['Image','Class'])\n",
    "submissions['Class'] = submissions['Class'].map(y_dict)\n",
    "submissions.to_csv('submissions.csv', index = False)"
   ]
  }
 ],
 "metadata": {
  "kernelspec": {
   "display_name": "Python 3",
   "language": "python",
   "name": "python3"
  },
  "language_info": {
   "codemirror_mode": {
    "name": "ipython",
    "version": 3
   },
   "file_extension": ".py",
   "mimetype": "text/x-python",
   "name": "python",
   "nbconvert_exporter": "python",
   "pygments_lexer": "ipython3",
   "version": "3.7.9"
  },
  "papermill": {
   "default_parameters": {},
   "duration": 836.530272,
   "end_time": "2021-02-09T06:46:08.762841",
   "environment_variables": {},
   "exception": null,
   "input_path": "__notebook__.ipynb",
   "output_path": "__notebook__.ipynb",
   "parameters": {},
   "start_time": "2021-02-09T06:32:12.232569",
   "version": "2.2.2"
  },
  "widgets": {
   "application/vnd.jupyter.widget-state+json": {
    "state": {
     "304ecee7fce8415c81bcc6983cc03744": {
      "model_module": "@jupyter-widgets/base",
      "model_module_version": "1.2.0",
      "model_name": "LayoutModel",
      "state": {
       "_model_module": "@jupyter-widgets/base",
       "_model_module_version": "1.2.0",
       "_model_name": "LayoutModel",
       "_view_count": null,
       "_view_module": "@jupyter-widgets/base",
       "_view_module_version": "1.2.0",
       "_view_name": "LayoutView",
       "align_content": null,
       "align_items": null,
       "align_self": null,
       "border": null,
       "bottom": null,
       "display": null,
       "flex": null,
       "flex_flow": null,
       "grid_area": null,
       "grid_auto_columns": null,
       "grid_auto_flow": null,
       "grid_auto_rows": null,
       "grid_column": null,
       "grid_gap": null,
       "grid_row": null,
       "grid_template_areas": null,
       "grid_template_columns": null,
       "grid_template_rows": null,
       "height": null,
       "justify_content": null,
       "justify_items": null,
       "left": null,
       "margin": null,
       "max_height": null,
       "max_width": null,
       "min_height": null,
       "min_width": null,
       "object_fit": null,
       "object_position": null,
       "order": null,
       "overflow": null,
       "overflow_x": null,
       "overflow_y": null,
       "padding": null,
       "right": null,
       "top": null,
       "visibility": null,
       "width": null
      }
     },
     "34c95a17838b4dae980a671472e609ee": {
      "model_module": "@jupyter-widgets/base",
      "model_module_version": "1.2.0",
      "model_name": "LayoutModel",
      "state": {
       "_model_module": "@jupyter-widgets/base",
       "_model_module_version": "1.2.0",
       "_model_name": "LayoutModel",
       "_view_count": null,
       "_view_module": "@jupyter-widgets/base",
       "_view_module_version": "1.2.0",
       "_view_name": "LayoutView",
       "align_content": null,
       "align_items": null,
       "align_self": null,
       "border": null,
       "bottom": null,
       "display": null,
       "flex": null,
       "flex_flow": null,
       "grid_area": null,
       "grid_auto_columns": null,
       "grid_auto_flow": null,
       "grid_auto_rows": null,
       "grid_column": null,
       "grid_gap": null,
       "grid_row": null,
       "grid_template_areas": null,
       "grid_template_columns": null,
       "grid_template_rows": null,
       "height": null,
       "justify_content": null,
       "justify_items": null,
       "left": null,
       "margin": null,
       "max_height": null,
       "max_width": null,
       "min_height": null,
       "min_width": null,
       "object_fit": null,
       "object_position": null,
       "order": null,
       "overflow": null,
       "overflow_x": null,
       "overflow_y": null,
       "padding": null,
       "right": null,
       "top": null,
       "visibility": null,
       "width": null
      }
     },
     "76e33a1edfe84cb78b899604c67c7880": {
      "model_module": "@jupyter-widgets/controls",
      "model_module_version": "1.5.0",
      "model_name": "ProgressStyleModel",
      "state": {
       "_model_module": "@jupyter-widgets/controls",
       "_model_module_version": "1.5.0",
       "_model_name": "ProgressStyleModel",
       "_view_count": null,
       "_view_module": "@jupyter-widgets/base",
       "_view_module_version": "1.2.0",
       "_view_name": "StyleView",
       "bar_color": null,
       "description_width": ""
      }
     },
     "8e65242c940442fa94fa7d4204f698d8": {
      "model_module": "@jupyter-widgets/controls",
      "model_module_version": "1.5.0",
      "model_name": "HBoxModel",
      "state": {
       "_dom_classes": [],
       "_model_module": "@jupyter-widgets/controls",
       "_model_module_version": "1.5.0",
       "_model_name": "HBoxModel",
       "_view_count": null,
       "_view_module": "@jupyter-widgets/controls",
       "_view_module_version": "1.5.0",
       "_view_name": "HBoxView",
       "box_style": "",
       "children": [
        "IPY_MODEL_f01e001a3bc84d3a9cbb305cdfcaaa6b",
        "IPY_MODEL_da935785b40d4784ac82a841f9fdede1",
        "IPY_MODEL_c4da6c2ecf1c4ae698f7820b76239ad8"
       ],
       "layout": "IPY_MODEL_304ecee7fce8415c81bcc6983cc03744"
      }
     },
     "b43fff4129c5473d90f94ded0e08a7ce": {
      "model_module": "@jupyter-widgets/controls",
      "model_module_version": "1.5.0",
      "model_name": "DescriptionStyleModel",
      "state": {
       "_model_module": "@jupyter-widgets/controls",
       "_model_module_version": "1.5.0",
       "_model_name": "DescriptionStyleModel",
       "_view_count": null,
       "_view_module": "@jupyter-widgets/base",
       "_view_module_version": "1.2.0",
       "_view_name": "StyleView",
       "description_width": ""
      }
     },
     "be341b876c604b1faa012a0e20c154fa": {
      "model_module": "@jupyter-widgets/base",
      "model_module_version": "1.2.0",
      "model_name": "LayoutModel",
      "state": {
       "_model_module": "@jupyter-widgets/base",
       "_model_module_version": "1.2.0",
       "_model_name": "LayoutModel",
       "_view_count": null,
       "_view_module": "@jupyter-widgets/base",
       "_view_module_version": "1.2.0",
       "_view_name": "LayoutView",
       "align_content": null,
       "align_items": null,
       "align_self": null,
       "border": null,
       "bottom": null,
       "display": null,
       "flex": null,
       "flex_flow": null,
       "grid_area": null,
       "grid_auto_columns": null,
       "grid_auto_flow": null,
       "grid_auto_rows": null,
       "grid_column": null,
       "grid_gap": null,
       "grid_row": null,
       "grid_template_areas": null,
       "grid_template_columns": null,
       "grid_template_rows": null,
       "height": null,
       "justify_content": null,
       "justify_items": null,
       "left": null,
       "margin": null,
       "max_height": null,
       "max_width": null,
       "min_height": null,
       "min_width": null,
       "object_fit": null,
       "object_position": null,
       "order": null,
       "overflow": null,
       "overflow_x": null,
       "overflow_y": null,
       "padding": null,
       "right": null,
       "top": null,
       "visibility": null,
       "width": null
      }
     },
     "c1c91a90ee6144078c75ed9fc9f3edc7": {
      "model_module": "@jupyter-widgets/base",
      "model_module_version": "1.2.0",
      "model_name": "LayoutModel",
      "state": {
       "_model_module": "@jupyter-widgets/base",
       "_model_module_version": "1.2.0",
       "_model_name": "LayoutModel",
       "_view_count": null,
       "_view_module": "@jupyter-widgets/base",
       "_view_module_version": "1.2.0",
       "_view_name": "LayoutView",
       "align_content": null,
       "align_items": null,
       "align_self": null,
       "border": null,
       "bottom": null,
       "display": null,
       "flex": null,
       "flex_flow": null,
       "grid_area": null,
       "grid_auto_columns": null,
       "grid_auto_flow": null,
       "grid_auto_rows": null,
       "grid_column": null,
       "grid_gap": null,
       "grid_row": null,
       "grid_template_areas": null,
       "grid_template_columns": null,
       "grid_template_rows": null,
       "height": null,
       "justify_content": null,
       "justify_items": null,
       "left": null,
       "margin": null,
       "max_height": null,
       "max_width": null,
       "min_height": null,
       "min_width": null,
       "object_fit": null,
       "object_position": null,
       "order": null,
       "overflow": null,
       "overflow_x": null,
       "overflow_y": null,
       "padding": null,
       "right": null,
       "top": null,
       "visibility": null,
       "width": null
      }
     },
     "c4da6c2ecf1c4ae698f7820b76239ad8": {
      "model_module": "@jupyter-widgets/controls",
      "model_module_version": "1.5.0",
      "model_name": "HTMLModel",
      "state": {
       "_dom_classes": [],
       "_model_module": "@jupyter-widgets/controls",
       "_model_module_version": "1.5.0",
       "_model_name": "HTMLModel",
       "_view_count": null,
       "_view_module": "@jupyter-widgets/controls",
       "_view_module_version": "1.5.0",
       "_view_name": "HTMLView",
       "description": "",
       "description_tooltip": null,
       "layout": "IPY_MODEL_be341b876c604b1faa012a0e20c154fa",
       "placeholder": "​",
       "style": "IPY_MODEL_d36e9ce3f85b47fc9ab709d569ea682a",
       "value": " 95.8M/95.8M [00:01&lt;00:00, 64.7MB/s]"
      }
     },
     "d36e9ce3f85b47fc9ab709d569ea682a": {
      "model_module": "@jupyter-widgets/controls",
      "model_module_version": "1.5.0",
      "model_name": "DescriptionStyleModel",
      "state": {
       "_model_module": "@jupyter-widgets/controls",
       "_model_module_version": "1.5.0",
       "_model_name": "DescriptionStyleModel",
       "_view_count": null,
       "_view_module": "@jupyter-widgets/base",
       "_view_module_version": "1.2.0",
       "_view_name": "StyleView",
       "description_width": ""
      }
     },
     "da935785b40d4784ac82a841f9fdede1": {
      "model_module": "@jupyter-widgets/controls",
      "model_module_version": "1.5.0",
      "model_name": "FloatProgressModel",
      "state": {
       "_dom_classes": [],
       "_model_module": "@jupyter-widgets/controls",
       "_model_module_version": "1.5.0",
       "_model_name": "FloatProgressModel",
       "_view_count": null,
       "_view_module": "@jupyter-widgets/controls",
       "_view_module_version": "1.5.0",
       "_view_name": "ProgressView",
       "bar_style": "success",
       "description": "",
       "description_tooltip": null,
       "layout": "IPY_MODEL_c1c91a90ee6144078c75ed9fc9f3edc7",
       "max": 100441675.0,
       "min": 0.0,
       "orientation": "horizontal",
       "style": "IPY_MODEL_76e33a1edfe84cb78b899604c67c7880",
       "value": 100441675.0
      }
     },
     "f01e001a3bc84d3a9cbb305cdfcaaa6b": {
      "model_module": "@jupyter-widgets/controls",
      "model_module_version": "1.5.0",
      "model_name": "HTMLModel",
      "state": {
       "_dom_classes": [],
       "_model_module": "@jupyter-widgets/controls",
       "_model_module_version": "1.5.0",
       "_model_name": "HTMLModel",
       "_view_count": null,
       "_view_module": "@jupyter-widgets/controls",
       "_view_module_version": "1.5.0",
       "_view_name": "HTMLView",
       "description": "",
       "description_tooltip": null,
       "layout": "IPY_MODEL_34c95a17838b4dae980a671472e609ee",
       "placeholder": "​",
       "style": "IPY_MODEL_b43fff4129c5473d90f94ded0e08a7ce",
       "value": "100%"
      }
     }
    },
    "version_major": 2,
    "version_minor": 0
   }
  }
 },
 "nbformat": 4,
 "nbformat_minor": 4
}
